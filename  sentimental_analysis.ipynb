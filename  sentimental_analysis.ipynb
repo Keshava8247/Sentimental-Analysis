{
 "cells": [
  {
   "cell_type": "code",
   "execution_count": 16,
   "id": "860bfb3d-3d9f-421f-bdc3-57555493a548",
   "metadata": {},
   "outputs": [
    {
     "name": "stdout",
     "output_type": "stream",
     "text": [
      "Libraries imported successfully.\n",
      "\n",
      "Dataset Info:\n",
      "<class 'pandas.core.frame.DataFrame'>\n",
      "RangeIndex: 50000 entries, 0 to 49999\n",
      "Data columns (total 2 columns):\n",
      " #   Column     Non-Null Count  Dtype \n",
      "---  ------     --------------  ----- \n",
      " 0   review     50000 non-null  object\n",
      " 1   sentiment  50000 non-null  object\n",
      "dtypes: object(2)\n",
      "memory usage: 781.4+ KB\n",
      "\n",
      "First 9 rows:\n",
      "                                                  review sentiment\n",
      "49995  I thought this movie did a down right good job...  positive\n",
      "49996  Bad plot, bad dialogue, bad acting, idiotic di...  negative\n",
      "49997  I am a Catholic taught in parochial elementary...  negative\n",
      "49998  I'm going to have to disagree with the previou...  negative\n",
      "49999  No one expects the Star Trek movies to be high...  negative\n",
      "\n",
      "Sentiment value counts (1: positive, 0: negative):\n",
      "sentiment\n",
      "1    25000\n",
      "0    25000\n",
      "Name: count, dtype: int64\n"
     ]
    }
   ],
   "source": [
    "# 1.1 Import Libraries\n",
    "import pandas as pd\n",
    "import numpy as np\n",
    "import re \n",
    "import nltk \n",
    "from nltk.corpus import stopwords\n",
    "from nltk.stem import PorterStemmer \n",
    "from sklearn.model_selection import train_test_split\n",
    "from sklearn.feature_extraction.text import TfidfVectorizer\n",
    "from sklearn.linear_model import LogisticRegression\n",
    "from sklearn.metrics import accuracy_score, classification_report, confusion_matrix\n",
    "import joblib \n",
    "\n",
    "print(\"Libraries imported successfully.\")\n",
    "df = pd.read_csv(\"IMDB Dataset.csv\") \n",
    "print(\"\\nDataset Info:\")\n",
    "df.info()\n",
    "\n",
    "print(\"\\nFirst 9 rows:\")\n",
    "print(df.tail())\n",
    "\n",
    "df['sentiment'] = df['sentiment'].map({'positive': 1, 'negative': 0})\n",
    "\n",
    "print(\"\\nSentiment value counts (1: positive, 0: negative):\")\n",
    "print(df['sentiment'].value_counts())"
   ]
  },
  {
   "cell_type": "code",
   "execution_count": 17,
   "id": "c5dacbcf-0f8e-47e2-b172-ace18dce56a3",
   "metadata": {},
   "outputs": [
    {
     "name": "stderr",
     "output_type": "stream",
     "text": [
      "[nltk_data] Downloading package stopwords to\n",
      "[nltk_data]     C:\\Users\\chenn\\AppData\\Roaming\\nltk_data...\n",
      "[nltk_data]   Package stopwords is already up-to-date!\n"
     ]
    }
   ],
   "source": [
    "import nltk\n",
    "from nltk.corpus import stopwords\n",
    "\n",
    "nltk.download('stopwords')\n",
    "\n",
    "stop_words = set(stopwords.words('english'))\n"
   ]
  },
  {
   "cell_type": "code",
   "execution_count": 18,
   "id": "a51c2bb8-98b5-4dda-9714-a912045521e9",
   "metadata": {},
   "outputs": [
    {
     "name": "stdout",
     "output_type": "stream",
     "text": [
      "\n",
      "Preprocessing text data... (This may take a few minutes)\n",
      "Text preprocessing complete.\n",
      "\n",
      "Example Preprocessing:\n",
      "Original: One of the other reviewers has mentioned that after watching just 1 Oz episode you'll be hooked. They are right, as this is exactly what happened with me.<br /><br />The first thing that struck me abo...\n",
      "Cleaned: one reviewers mentioned watching oz episode youll hooked right exactly happened methe first thing struck oz brutality unflinching scenes violence set right word go trust show faint hearted timid show ...\n"
     ]
    }
   ],
   "source": [
    "#2. Text Preprocessing Function\n",
    "stop_words = set(stopwords.words('english'))\n",
    "# ps = PorterStemmer() \n",
    "\n",
    "def preprocess_text(text):\n",
    "    # Remove HTML tags\n",
    "    text = re.sub(r'<.*?>', '', text)\n",
    "    text = re.sub(r'[^a-zA-Z\\s]', '', text, re.I|re.A)\n",
    "    text = text.lower()\n",
    "    words = text.split()\n",
    "    words = [word for word in words if word not in stop_words]\n",
    "    text = ' '.join(words)\n",
    "    return text\n",
    "\n",
    "print(\"\\nPreprocessing text data... (This may take a few minutes)\")\n",
    "df['cleaned_review'] = df['review'].apply(preprocess_text)\n",
    "print(\"Text preprocessing complete.\")\n",
    "\n",
    "print(\"\\nExample Preprocessing:\")\n",
    "print(\"Original:\", df['review'][0][:200] + \"...\") # Show first 200 chars\n",
    "print(\"Cleaned:\", df['cleaned_review'][0][:200] + \"...\")"
   ]
  },
  {
   "cell_type": "code",
   "execution_count": null,
   "id": "b25cf638-b6bb-46a8-a92a-106f8c70a516",
   "metadata": {},
   "outputs": [
    {
     "name": "stdout",
     "output_type": "stream",
     "text": [
      "\n",
      "Data Split:\n",
      "Training set size: 37500 samples\n",
      "Testing set size: 12500 samples\n",
      "\n",
      "Fitting TF-IDF Vectorizer and transforming training data...\n",
      "Transforming test data...\n",
      "TF-IDF transformation complete.\n",
      "Shape of TF-IDF matrix (Train): (37500, 5000)\n",
      "Shape of TF-IDF matrix (Test): (12500, 5000)\n"
     ]
    }
   ],
   "source": [
    "# 3.1 Split Data into Training and Testing Sets\n",
    "X = df['cleaned_review']\n",
    "y = df['sentiment']\n",
    "\n",
    "X_train, X_test, y_train, y_test = train_test_split(X, y, test_size=0.25, random_state=42, stratify=y)\n",
    " \n",
    "\n",
    "print(f\"\\nData Split:\")\n",
    "print(f\"Training set size: {len(X_train)} samples\")\n",
    "print(f\"Testing set size: {len(X_test)} samples\")\n",
    "\n",
    "# 3.2 TF-IDF Vectorization\n",
    "tfidf_vectorizer = TfidfVectorizer(max_features=5000) # You can tune max_features\n",
    "\n",
    "print(\"\\nFitting TF-IDF Vectorizer and transforming training data...\")\n",
    "X_train_tfidf = tfidf_vectorizer.fit_transform(X_train)\n",
    "\n",
    "print(\"Transforming test data...\")\n",
    "X_test_tfidf = tfidf_vectorizer.transform(X_test)\n",
    "\n",
    "print(\"TF-IDF transformation complete.\")\n",
    "print(f\"Shape of TF-IDF matrix (Train): {X_train_tfidf.shape}\") # (num_samples, num_features)\n",
    "print(f\"Shape of TF-IDF matrix (Test): {X_test_tfidf.shape}\")"
   ]
  },
  {
   "cell_type": "code",
   "execution_count": 20,
   "id": "25a94554-a128-40c2-951b-3345f5f23630",
   "metadata": {},
   "outputs": [
    {
     "name": "stdout",
     "output_type": "stream",
     "text": [
      "\n",
      "Training Logistic Regression model...\n",
      "Model training complete.\n"
     ]
    }
   ],
   "source": [
    "# 4. Model Training\n",
    "log_reg = LogisticRegression(C=1.0, max_iter=1000, random_state=42, solver='liblinear') # liblinear is good for binary classification with larger datasets\n",
    "\n",
    "print(\"\\nTraining Logistic Regression model...\")\n",
    "log_reg.fit(X_train_tfidf, y_train)\n",
    "print(\"Model training complete.\")\n",
    "\n",
    "# Optional: Save the model and vectorizer\n",
    "# joblib.dump(log_reg, 'logistic_regression_model.pkl')\n",
    "# joblib.dump(tfidf_vectorizer, 'tfidf_vectorizer.pkl')\n",
    "# print(\"Model and Vectorizer saved.\")"
   ]
  },
  {
   "cell_type": "code",
   "execution_count": 21,
   "id": "df22867e-055f-4574-9efc-5f5b0c3da686",
   "metadata": {},
   "outputs": [
    {
     "name": "stdout",
     "output_type": "stream",
     "text": [
      "\n",
      "Evaluating model on the test set...\n",
      "\n",
      "Accuracy: 0.8881\n",
      "\n",
      "Confusion Matrix:\n",
      "[[5496  754]\n",
      " [ 645 5605]]\n",
      "\n",
      "Classification Report:\n",
      "              precision    recall  f1-score   support\n",
      "\n",
      "Negative (0)       0.89      0.88      0.89      6250\n",
      "Positive (1)       0.88      0.90      0.89      6250\n",
      "\n",
      "    accuracy                           0.89     12500\n",
      "   macro avg       0.89      0.89      0.89     12500\n",
      "weighted avg       0.89      0.89      0.89     12500\n",
      "\n"
     ]
    }
   ],
   "source": [
    "# 5. Model Evaluation\n",
    "print(\"\\nEvaluating model on the test set...\")\n",
    "y_pred = log_reg.predict(X_test_tfidf)\n",
    "\n",
    "# Calculate accuracy\n",
    "accuracy = accuracy_score(y_test, y_pred)\n",
    "print(f\"\\nAccuracy: {accuracy:.4f}\")\n",
    "\n",
    "# Display confusion matrix\n",
    "print(\"\\nConfusion Matrix:\")\n",
    "print(confusion_matrix(y_test, y_pred))\n",
    "# Format:\n",
    "# [[TN, FP],\n",
    "#  [FN, TP]]\n",
    "\n",
    "# Display classification report\n",
    "print(\"\\nClassification Report:\")\n",
    "print(classification_report(y_test, y_pred, target_names=['Negative (0)', 'Positive (1)']))"
   ]
  },
  {
   "cell_type": "code",
   "execution_count": 22,
   "id": "3f076d17-5416-4d4f-82bb-993414b945af",
   "metadata": {},
   "outputs": [
    {
     "name": "stdout",
     "output_type": "stream",
     "text": [
      "\n",
      "--- Testing on New Reviews ---\n",
      "Cleaned Reviews: ['movie absolutely fantastic acting superb storyline kept engaged throughout', 'waste time plot predictable characters incredibly boring would recommend film', 'okay movie great terrible either good moments overall quite average']\n",
      "Shape of TF-IDF for new reviews: (3, 5000)\n",
      "\n",
      "Review: \"This movie was absolutely fantastic! The acting was superb and the storyline kept me engaged through...\"\n",
      "Predicted Sentiment: Positive (1)\n",
      "\n",
      "Review: \"What a waste of time. The plot was predictable and the characters were incredibly boring. I would no...\"\n",
      "Predicted Sentiment: Negative (0)\n",
      "\n",
      "Review: \"It was an okay movie, not great but not terrible either. Some good moments but overall quite average...\"\n",
      "Predicted Sentiment: Negative (0)\n",
      "\n",
      "--- Project Complete ---\n"
     ]
    }
   ],
   "source": [
    "# 6. Testing on New Examples\n",
    "\n",
    "# Load saved model and vectorizer if needed\n",
    "# log_reg = joblib.load('logistic_regression_model.pkl')\n",
    "# tfidf_vectorizer = joblib.load('tfidf_vectorizer.pkl')\n",
    "\n",
    "# Example reviews\n",
    "new_reviews = [\n",
    "    \"This movie was absolutely fantastic! The acting was superb and the storyline kept me engaged throughout.\",\n",
    "    \"What a waste of time. The plot was predictable and the characters were incredibly boring. I would not recommend this film.\",\n",
    "    \"It was an okay movie, not great but not terrible either. Some good moments but overall quite average.\"\n",
    "]\n",
    "\n",
    "print(\"\\n--- Testing on New Reviews ---\")\n",
    "# Preprocess the new reviews\n",
    "cleaned_new_reviews = [preprocess_text(review) for review in new_reviews]\n",
    "print(\"Cleaned Reviews:\", cleaned_new_reviews)\n",
    "\n",
    "new_reviews_tfidf = tfidf_vectorizer.transform(cleaned_new_reviews)\n",
    "print(\"Shape of TF-IDF for new reviews:\", new_reviews_tfidf.shape)\n",
    "\n",
    "new_predictions = log_reg.predict(new_reviews_tfidf)\n",
    "sentiment_labels = {1: 'Positive', 0: 'Negative'}\n",
    "\n",
    "# Print results\n",
    "for review, prediction in zip(new_reviews, new_predictions):\n",
    "    print(f\"\\nReview: \\\"{review[:100]}...\\\"\")\n",
    "    print(f\"Predicted Sentiment: {sentiment_labels[prediction]} ({prediction})\")\n",
    "\n",
    "print(\"\\n--- Project Complete ---\")"
   ]
  },
  {
   "cell_type": "code",
   "execution_count": null,
   "id": "28240092-7c8f-4792-9abc-5256c2d32abe",
   "metadata": {},
   "outputs": [],
   "source": [
    " "
   ]
  }
 ],
 "metadata": {
  "kernelspec": {
   "display_name": "Python 3 (ipykernel)",
   "language": "python",
   "name": "python3"
  },
  "language_info": {
   "codemirror_mode": {
    "name": "ipython",
    "version": 3
   },
   "file_extension": ".py",
   "mimetype": "text/x-python",
   "name": "python",
   "nbconvert_exporter": "python",
   "pygments_lexer": "ipython3",
   "version": "3.12.3"
  }
 },
 "nbformat": 4,
 "nbformat_minor": 5
}
